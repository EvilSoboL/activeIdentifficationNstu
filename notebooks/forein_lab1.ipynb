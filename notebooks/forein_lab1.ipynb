{
 "cells": [
  {
   "cell_type": "code",
   "execution_count": 1,
   "id": "9000be9e-6d86-4829-9688-65ae813bca88",
   "metadata": {},
   "outputs": [],
   "source": [
    "# %%\n",
    "import numpy as np\n",
    "from numpy.linalg import det, inv, norm\n",
    "from numpy.random import normal\n",
    "from scipy.optimize import minimize, Bounds, least_squares\n",
    "import matplotlib.pyplot as plt\n",
    "from matplotlib import cm\n",
    "import math\n",
    "import random\n",
    "from functools import cache\n",
    "\n",
    "np.random.seed(23)\n",
    "np.random.RandomState = 22\n",
    "random.seed(22)\n",
    "np.set_printoptions(precision=5)\n",
    "plt.rcParams['figure.figsize'] = [10, 4]"
   ]
  },
  {
   "cell_type": "markdown",
   "id": "6c36e94a-5a8f-426d-b5de-4e629596d958",
   "metadata": {},
   "source": [
    "# 1. Исходные данные"
   ]
  },
  {
   "cell_type": "code",
   "execution_count": 2,
   "id": "f0aaef03-f2f7-4f74-a1f7-cdf2eb26deeb",
   "metadata": {},
   "outputs": [],
   "source": [
    "def F_(th_1):\n",
    "    return np.matrix([[th_1, 0.55], [-0.1, 0.5]])\n",
    "def PSI_(th_2):\n",
    "    return np.matrix([1, th_2]).T\n",
    "G = np.matrix([1, 1]).T\n",
    "H = np.matrix([1, 0])\n",
    "Q = np.matrix(0.1)\n",
    "R = np.matrix(0.05)\n",
    "x0 = np.matrix([0, 0]).T\n",
    "P0 = np.matrix([[0.1, 0], [0, 0.1]])\n",
    "I = np.eye(2)\n",
    "N = 30 # Размерность сигнала U\n",
    "s = 2 # Размерность th\n",
    "th_true = np.array([-0.8, 1])\n",
    "th_1_range = [-2, -0.05]\n",
    "th_2_range = [0.01, 1.5]\n",
    "U = np.matrix(np.ones(N+1)*5).T"
   ]
  },
  {
   "cell_type": "markdown",
   "id": "af85f08c-db92-441c-b30e-86e45321167b",
   "metadata": {},
   "source": [
    "# 2. Отклик"
   ]
  },
  {
   "cell_type": "code",
   "execution_count": 11,
   "id": "9fa5e3b4-da6d-42bb-83a5-f229ba01790d",
   "metadata": {},
   "outputs": [],
   "source": [
    "def make_Y(th, err=1, err2=1):\n",
    "    X = np.matrix(np.zeros((2, N+1)))\n",
    "    Y = np.matrix(np.zeros((N+1, 1)))\n",
    "    F = F_(th[0])\n",
    "    PSI = PSI_(th[1])\n",
    "    X[:, 0] = x0\n",
    "    Y[0] = H@X[:, 0] + normal(-np.sqrt(R)/2, np.sqrt(R))*err\n",
    "    for k in range(1, N+1):\n",
    "        wi = normal(-np.sqrt(R)/2, np.sqrt(Q), (1,2))*err\n",
    "        vi = normal(-np.sqrt(Q)/2, np.sqrt(R))*err*err2\n",
    "        X[:, k] = F@X[:, k-1] + PSI@U[k] + (G@wi)[0].T\n",
    "        Y[k] = H@X[:, k] + vi\n",
    "    return Y, X\n",
    "Y, X = make_Y(th_true)"
   ]
  },
  {
   "cell_type": "markdown",
   "id": "11bb2b79-ba33-4f5a-b22d-deba74bc9380",
   "metadata": {},
   "source": [
    "# 3. Критерий идентификации"
   ]
  },
  {
   "cell_type": "code",
   "execution_count": 12,
   "id": "703eefd6-e34b-4cbd-b994-5e1b9f42f444",
   "metadata": {},
   "outputs": [],
   "source": [
    "def HI(th, Y):\n",
    "    hi = N*np.log(2*np.pi)\n",
    "    P_k_k = P0\n",
    "    x_k_k = x0\n",
    "    F = F_(th[0])\n",
    "    PSI = PSI_(th[1])\n",
    "    for k in range(N):\n",
    "        P_k1_k = F@P_k_k@F.T + G@Q@G.T\n",
    "        B_k1 = H@P_k1_k@H.T + R\n",
    "        K_k1 = P_k1_k@H.T@inv(B_k1)\n",
    "        P_k1_k1 = (I - K_k1@H)@P_k1_k\n",
    "        x_k1_k = F@x_k_k + PSI@U[k]\n",
    "        e_k1 = Y[k+1] - H@x_k1_k\n",
    "        x_k_k = x_k1_k + K_k1@e_k1\n",
    "        delta = e_k1.T@inv(B_k1)@e_k1\n",
    "        hi += math.log(det(B_k1)) + delta\n",
    "        P_k_k = P_k1_k1\n",
    "    return np.float64(hi/2)"
   ]
  },
  {
   "cell_type": "code",
   "execution_count": 13,
   "id": "fff14704-2891-40f6-849a-1460125062c7",
   "metadata": {},
   "outputs": [
    {
     "name": "stderr",
     "output_type": "stream",
     "text": [
      "C:\\Users\\Mark\\AppData\\Local\\Temp\\ipykernel_11496\\2177532428.py:18: DeprecationWarning: Conversion of an array with ndim > 0 to a scalar is deprecated, and will error in future. Ensure you extract a single element from your array before performing this operation. (Deprecated NumPy 1.25.)\n",
      "  return np.float64(hi/2)\n"
     ]
    },
    {
     "data": {
      "text/plain": [
       "25.936094170105793"
      ]
     },
     "execution_count": 13,
     "metadata": {},
     "output_type": "execute_result"
    }
   ],
   "source": [
    "HI(th_true, Y)"
   ]
  },
  {
   "cell_type": "markdown",
   "id": "07aaaaf6-1daa-45f2-8f4e-4d9debfdad41",
   "metadata": {},
   "source": [
    "# 4. Градиент критерия"
   ]
  },
  {
   "cell_type": "code",
   "execution_count": 14,
   "id": "28517734-bdad-4726-b0cb-c4731cb86d09",
   "metadata": {},
   "outputs": [],
   "source": [
    "def gradHI(th, Y):\n",
    "    dF = [np.matrix([[1,0],[0,0]]), np.matrix(np.zeros((2,2)))]\n",
    "    dPSI = [np.matrix(np.zeros((2,1))), np.matrix([0,1]).T]\n",
    "    dx0 = np.array([[[0],[0]],[[0],[0]]])\n",
    "    # dG, dH, dQ, dR, dx0, dP0 - нулевые матрицы\n",
    "    dHi = np.zeros(len(th))\n",
    "    F = F_(th[0])\n",
    "    PSI = PSI_(th[1])\n",
    "    P_k_k = P0\n",
    "    dP_k_k = [np.matrix(np.zeros((2,2))), np.matrix(np.zeros((2,2)))]\n",
    "    x_k_k = x0\n",
    "    dx_k_k = dx0\n",
    "    for k in range(N):\n",
    "        P_k1_k = F @ P_k_k @ F.T + G @ Q @ G.T\n",
    "        B_k1 = H @ P_k1_k @ H.T + R\n",
    "        K_k1 = P_k1_k @ H.T @ inv(B_k1)\n",
    "        P_k1_k1 = (I - K_k1 @ H) @ P_k1_k\n",
    "        dP_k1_k = [None, None]\n",
    "        dB_k1 = [None, None]\n",
    "        dK_k1 = [None, None]\n",
    "        dx_k1_k1 = [None, None]\n",
    "        for i in range(s):\n",
    "            dP_k1_k[i] = dF[i] @ P_k_k @ F.T + F @ dP_k_k[i] @ F.T + F @ P_k_k @ dF[i].T\n",
    "            dB_k1[i] = H @ dP_k1_k[i] @ H.T\n",
    "            dK_k1[i] = (dP_k1_k[i] @ H.T - P_k1_k @ H.T @ inv(B_k1) @ dB_k1[i]) @ inv(B_k1)\n",
    "            dP_k_k[i] = (I - K_k1 @ H) @ dP_k1_k[i] - dK_k1[i] @ H @ P_k1_k\n",
    "        delta = np.zeros((s, 1))\n",
    "        x_k1_k = F @ x_k_k + PSI @ U[k]\n",
    "        e_k1 = Y[k+1] - H @ x_k1_k\n",
    "        x_k1_k1 = x_k1_k + K_k1 @ e_k1\n",
    "        for i in range(s):\n",
    "            dx_k1_k = dF[i] @ x_k_k + F @ dx_k_k[i] + dPSI[i] @ U[k]\n",
    "            de_k1 = -H @ dx_k1_k\n",
    "            dx_k1_k1[i] = dx_k1_k + dK_k1[i] @ e_k1 + K_k1 @ de_k1\n",
    "            delta[i] += float(\n",
    "                de_k1.T @ inv(B_k1) @ e_k1 -\n",
    "                1/2 * e_k1.T @ inv(B_k1) @ dB_k1[i] @ inv(B_k1) @ e_k1\n",
    "            )\n",
    "        dHi[i] += 1/2 * np.trace(inv(B_k1) @ dB_k1[i]) + delta[i]\n",
    "        P_k_k = P_k1_k1\n",
    "        x_k_k = x_k1_k1\n",
    "        dx_k_k = dx_k1_k1\n",
    "    return dHi"
   ]
  },
  {
   "cell_type": "code",
   "execution_count": 16,
   "id": "19f78694-9223-40b7-8862-469bdc857777",
   "metadata": {},
   "outputs": [
    {
     "name": "stderr",
     "output_type": "stream",
     "text": [
      "C:\\Users\\Mark\\AppData\\Local\\Temp\\ipykernel_11496\\780617284.py:35: DeprecationWarning: Conversion of an array with ndim > 0 to a scalar is deprecated, and will error in future. Ensure you extract a single element from your array before performing this operation. (Deprecated NumPy 1.25.)\n",
      "  delta[i] += float(\n",
      "C:\\Users\\Mark\\AppData\\Local\\Temp\\ipykernel_11496\\780617284.py:39: DeprecationWarning: Conversion of an array with ndim > 0 to a scalar is deprecated, and will error in future. Ensure you extract a single element from your array before performing this operation. (Deprecated NumPy 1.25.)\n",
      "  dHi[i] += 1/2 * np.trace(inv(B_k1) @ dB_k1[i]) + delta[i]\n"
     ]
    },
    {
     "data": {
      "text/plain": [
       "array([  0.     , 103.38154])"
      ]
     },
     "execution_count": 16,
     "metadata": {},
     "output_type": "execute_result"
    }
   ],
   "source": [
    "gradHI(th_true, Y)"
   ]
  },
  {
   "cell_type": "code",
   "execution_count": null,
   "id": "b658f496-46a4-4788-b072-bc6ab46dcfd3",
   "metadata": {},
   "outputs": [],
   "source": []
  }
 ],
 "metadata": {
  "kernelspec": {
   "display_name": "Python 3 (ipykernel)",
   "language": "python",
   "name": "python3"
  },
  "language_info": {
   "codemirror_mode": {
    "name": "ipython",
    "version": 3
   },
   "file_extension": ".py",
   "mimetype": "text/x-python",
   "name": "python",
   "nbconvert_exporter": "python",
   "pygments_lexer": "ipython3",
   "version": "3.12.0"
  }
 },
 "nbformat": 4,
 "nbformat_minor": 5
}

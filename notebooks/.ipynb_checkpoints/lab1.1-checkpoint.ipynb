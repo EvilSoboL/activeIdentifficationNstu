{
 "cells": [
  {
   "cell_type": "code",
   "execution_count": 1,
   "id": "29e2c42e-74df-4b0f-a0d8-8b6861ca301f",
   "metadata": {},
   "outputs": [],
   "source": [
    "import numpy as np"
   ]
  },
  {
   "cell_type": "markdown",
   "id": "8fc48f8a-6f00-4190-9753-6ac2533142c9",
   "metadata": {},
   "source": [
    "# 1. Исходные данные"
   ]
  },
  {
   "attachments": {
    "f862364d-685b-4201-a271-a0abafc7182d.png": {
     "image/png": "[encoded data removed]"
    }
   },
   "cell_type": "markdown",
   "id": "780198eb-0109-41eb-b08d-25aaf7aba6ee",
   "metadata": {},
   "source": [
    "![image.png](attachment:f862364d-685b-4201-a271-a0abafc7182d.png)"
   ]
  },
  {
   "cell_type": "code",
   "execution_count": 2,
   "id": "3a1b922b-1e22-4f6e-aca0-71667b6edc78",
   "metadata": {},
   "outputs": [],
   "source": [
    "def F_(th_1: float) -> np.matrix:\n",
    "    return np.matrix([[-0.8, 1], [th_1, 0]])\n",
    "\n",
    "def Psi_(th_2: float) -> np.matrix:\n",
    "    return np.matrix([[th_2], [1]])\n",
    "\n",
    "H: np.matrix([[1, 0]])\n",
    "R: float = 0.1\n",
    "x_0: np.matrix([[0], [0]])\n",
    "th_true = np.array([-1.5, 1])\n",
    "th_1_range: list = [-2, -0.05]\n",
    "th_2_range: list = [0.01, 1.5]\n",
    "\n",
    "N: int = 30  # Размерность сигнала U\n",
    "s: int = 2  # Размерность th "
   ]
  },
  {
   "cell_type": "markdown",
   "id": "6fb5eeec-0a99-4a88-90d1-a1489081f8f1",
   "metadata": {},
   "source": [
    "# 2. Отклик"
   ]
  },
  {
   "cell_type": "code",
   "execution_count": 3,
   "id": "aa3c95f8-4309-4a0b-8c2a-74f6c7da0b41",
   "metadata": {},
   "outputs": [],
   "source": [
    "def gen_Y(th, err=1, err2=1):\n",
    "    X = np.matrix(np.zeros((2, N+1)))\n",
    "    Y = np.matrix(np.zeros((N+1, 1)))\n",
    "    F = F_(th[0])\n",
    "    Psi = Psi_(th[1])\n",
    "    X[:, 0] = x0\n",
    "    Y[0] = H@X[:, 0] + normal(-np.sqrt(R)/2, np.sqrt(R))*err\n",
    "    for k in range(1, N+1):\n",
    "        wi = normal(-np.sqrt(R)/2, np.sqrt(Q), (1,2))*err\n",
    "        vi = normal(-np.sqrt(Q)/2, np.sqrt(R))*err*err2\n",
    "        X[:, k] = F@X[:, k-1] + Psi@U[k] + (G@wi)[0].T\n",
    "        Y[k] = H@X[:, k] + vi\n",
    "    return Y, X"
   ]
  },
  {
   "cell_type": "code",
   "execution_count": 4,
   "id": "b0c421b4-af92-4499-a0e3-db8db60ced15",
   "metadata": {},
   "outputs": [
    {
     "ename": "NameError",
     "evalue": "name 'x0' is not defined",
     "output_type": "error",
     "traceback": [
      "\u001b[1;31m---------------------------------------------------------------------------\u001b[0m",
      "\u001b[1;31mNameError\u001b[0m                                 Traceback (most recent call last)",
      "Cell \u001b[1;32mIn[4], line 1\u001b[0m\n\u001b[1;32m----> 1\u001b[0m \u001b[43mgen_Y\u001b[49m\u001b[43m(\u001b[49m\u001b[43mth_true\u001b[49m\u001b[43m)\u001b[49m\n",
      "Cell \u001b[1;32mIn[3], line 6\u001b[0m, in \u001b[0;36mgen_Y\u001b[1;34m(th, err, err2)\u001b[0m\n\u001b[0;32m      4\u001b[0m F \u001b[38;5;241m=\u001b[39m F_(th[\u001b[38;5;241m0\u001b[39m])\n\u001b[0;32m      5\u001b[0m Psi \u001b[38;5;241m=\u001b[39m Psi_(th[\u001b[38;5;241m1\u001b[39m])\n\u001b[1;32m----> 6\u001b[0m X[:, \u001b[38;5;241m0\u001b[39m] \u001b[38;5;241m=\u001b[39m \u001b[43mx0\u001b[49m\n\u001b[0;32m      7\u001b[0m Y[\u001b[38;5;241m0\u001b[39m] \u001b[38;5;241m=\u001b[39m H\u001b[38;5;129m@X\u001b[39m[:, \u001b[38;5;241m0\u001b[39m] \u001b[38;5;241m+\u001b[39m normal(\u001b[38;5;241m-\u001b[39mnp\u001b[38;5;241m.\u001b[39msqrt(R)\u001b[38;5;241m/\u001b[39m\u001b[38;5;241m2\u001b[39m, np\u001b[38;5;241m.\u001b[39msqrt(R))\u001b[38;5;241m*\u001b[39merr\n\u001b[0;32m      8\u001b[0m \u001b[38;5;28;01mfor\u001b[39;00m k \u001b[38;5;129;01min\u001b[39;00m \u001b[38;5;28mrange\u001b[39m(\u001b[38;5;241m1\u001b[39m, N\u001b[38;5;241m+\u001b[39m\u001b[38;5;241m1\u001b[39m):\n",
      "\u001b[1;31mNameError\u001b[0m: name 'x0' is not defined"
     ]
    }
   ],
   "source": [
    "gen_Y(th_true)"
   ]
  },
  {
   "cell_type": "code",
   "execution_count": null,
   "id": "9f4607d0-5b79-4ed7-b17a-5db629c9d94b",
   "metadata": {},
   "outputs": [],
   "source": []
  }
 ],
 "metadata": {
  "kernelspec": {
   "display_name": "Python 3 (ipykernel)",
   "language": "python",
   "name": "python3"
  },
  "language_info": {
   "codemirror_mode": {
    "name": "ipython",
    "version": 3
   },
   "file_extension": ".py",
   "mimetype": "text/x-python",
   "name": "python",
   "nbconvert_exporter": "python",
   "pygments_lexer": "ipython3",
   "version": "3.12.0"
  }
 },
 "nbformat": 4,
 "nbformat_minor": 5
}

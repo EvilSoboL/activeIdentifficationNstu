{
 "cells": [
  {
   "cell_type": "code",
   "execution_count": 1,
   "id": "b4e9221a-f26d-4683-8f0d-d5b862e808fb",
   "metadata": {},
   "outputs": [],
   "source": [
    "import numpy as np\n",
    "import sys\n",
    "import matplotlib.pyplot as plt\n",
    "\n",
    "sys.path.append('C:\\\\Users\\\\Mark\\\\PycharmProjects\\\\activeIdentificationNstu')\n",
    "\n",
    "from src.identification_criteria_r import IdentificationCriteria"
   ]
  },
  {
   "cell_type": "markdown",
   "id": "ad6ce921-95a8-44ce-8732-bccbdce9e843",
   "metadata": {},
   "source": [
    "# Константы из дано"
   ]
  },
  {
   "cell_type": "code",
   "execution_count": null,
   "id": "f9b0a4e1-cff7-49b6-96b2-d8d13ed2af34",
   "metadata": {},
   "outputs": [],
   "source": [
    "![image.png](attachment:38403003-d5cd-4b77-90ae-febcf843149f.png)"
   ]
  },
  {
   "cell_type": "markdown",
   "id": "84e59f08-39be-4177-91c9-b84fb80c637d",
   "metadata": {},
   "source": [
    "# Неградиентный метод"
   ]
  },
  {
   "cell_type": "code",
   "execution_count": 2,
   "id": "807f6553-3375-4bb7-b72b-300d9e35e4b3",
   "metadata": {},
   "outputs": [],
   "source": [
    "theta_true: list = [-1, 1]\n",
    "\n",
    "H: np.ndarray = np.array([1, 0])\n",
    "\n",
    "R: float = 0.1\n",
    "N: int = 30\n",
    "\n",
    "P0 = np.array([[0.1, 0], \n",
    "               [0, 0.1]])"
   ]
  },
  {
   "cell_type": "code",
   "execution_count": 3,
   "id": "941e0fe5-8f3d-4bc8-a985-517e0fd98642",
   "metadata": {},
   "outputs": [],
   "source": [
    "ic = IdentificationCriteria(R, H, N, P0)"
   ]
  },
  {
   "cell_type": "code",
   "execution_count": 4,
   "id": "22b5207c-6ca8-4a68-9486-1e143f30725e",
   "metadata": {
    "scrolled": true
   },
   "outputs": [
    {
     "data": {
      "text/plain": [
       "[array([[0],\n",
       "        [0]]),\n",
       " array([[2.],\n",
       "        [2.]]),\n",
       " array([[2.4],\n",
       "        [0. ]]),\n",
       " array([[ 0.08],\n",
       "        [-0.4 ]]),\n",
       " array([[1.536],\n",
       "        [1.92 ]]),\n",
       " array([[2.6912],\n",
       "        [0.464 ]]),\n",
       " array([[ 0.31104],\n",
       "        [-0.6912 ]]),\n",
       " array([[1.059968],\n",
       "        [1.68896 ]]),\n",
       " array([[2.8409856],\n",
       "        [0.940032 ]]),\n",
       " array([[ 0.66724352],\n",
       "        [-0.8409856 ]]),\n",
       " array([[0.62521958],\n",
       "        [1.33275648]]),\n",
       " array([[2.83258081],\n",
       "        [1.37478042]]),\n",
       " array([[ 1.10871577],\n",
       "        [-0.83258081]]),\n",
       " array([[0.28044657],\n",
       "        [0.89128423]]),\n",
       " array([[2.66692697],\n",
       "        [1.71955343]]),\n",
       " array([[ 1.58601185],\n",
       "        [-0.66692697]]),\n",
       " array([[0.06426355],\n",
       "        [0.41398815]]),\n",
       " array([[2.36257732],\n",
       "        [1.93573645]]),\n",
       " array([[ 2.0456746 ],\n",
       "        [-0.36257732]]),\n",
       " array([[ 0.00088301],\n",
       "        [-0.0456746 ]]),\n",
       " array([[1.953619  ],\n",
       "        [1.99911699]]),\n",
       " array([[2.4362218],\n",
       "        [0.046381 ]]),\n",
       " array([[ 0.09740357],\n",
       "        [-0.4362218 ]]),\n",
       " array([[1.48585535],\n",
       "        [1.90259643]]),\n",
       " array([[2.71391215],\n",
       "        [0.51414465]]),\n",
       " array([[ 0.34301493],\n",
       "        [-0.71391215]]),\n",
       " array([[1.0116759 ],\n",
       "        [1.65698507]]),\n",
       " array([[2.84764435],\n",
       "        [0.9883241 ]]),\n",
       " array([[ 0.71020862],\n",
       "        [-0.84764435]]),\n",
       " array([[0.58418876],\n",
       "        [1.28979138]])]"
      ]
     },
     "execution_count": 4,
     "metadata": {},
     "output_type": "execute_result"
    }
   ],
   "source": [
    "ic.generate_input_x(theta_true)"
   ]
  },
  {
   "cell_type": "code",
   "execution_count": 5,
   "id": "4ab09d9f-83df-48c0-a5a5-f3797940e446",
   "metadata": {},
   "outputs": [],
   "source": [
    "observation = ic.generate_output_y(theta_true)\n"
   ]
  },
  {
   "cell_type": "code",
   "execution_count": 6,
   "id": "667ff0d6-fc92-4146-8b13-949ddf2a936d",
   "metadata": {},
   "outputs": [
    {
     "data": {
      "text/plain": [
       "array([15.031])"
      ]
     },
     "execution_count": 6,
     "metadata": {},
     "output_type": "execute_result"
    }
   ],
   "source": [
    "np.round(ic.get_identification_criteria(theta_true, observation), 4)"
   ]
  },
  {
   "cell_type": "code",
   "execution_count": 7,
   "id": "ff74e0e1-e724-4378-a502-835a53461c70",
   "metadata": {},
   "outputs": [
    {
     "data": {
      "text/plain": [
       "array([[-0.9973, -1.0036, -0.99  , -1.0108, -0.996 ],\n",
       "       [ 0.9723,  1.0244,  0.9808,  1.0654,  0.8922]])"
      ]
     },
     "execution_count": 7,
     "metadata": {},
     "output_type": "execute_result"
    }
   ],
   "source": [
    "np.round(ic.get_non_grad_estimate(theta_true), 4)"
   ]
  },
  {
   "cell_type": "markdown",
   "id": "78e67c2f-d19d-4ba2-9054-6074cfd05759",
   "metadata": {},
   "source": [
    "# Градиентный метод"
   ]
  },
  {
   "cell_type": "code",
   "execution_count": 8,
   "id": "9b247523-72f3-42d4-b570-411779974f42",
   "metadata": {},
   "outputs": [
    {
     "ename": "ValueError",
     "evalue": "matmul: Input operand 1 has a mismatch in its core dimension 0, with gufunc signature (n?,k),(k,m?)->(n?,m?) (size 2 is different from 1)",
     "output_type": "error",
     "traceback": [
      "\u001b[1;31m---------------------------------------------------------------------------\u001b[0m",
      "\u001b[1;31mValueError\u001b[0m                                Traceback (most recent call last)",
      "Cell \u001b[1;32mIn[8], line 1\u001b[0m\n\u001b[1;32m----> 1\u001b[0m \u001b[43mic\u001b[49m\u001b[38;5;241;43m.\u001b[39;49m\u001b[43mget_grad_identification_criteria\u001b[49m\u001b[43m(\u001b[49m\u001b[43mtheta_true\u001b[49m\u001b[43m,\u001b[49m\u001b[43m \u001b[49m\u001b[43mobservation\u001b[49m\u001b[43m)\u001b[49m\n",
      "File \u001b[1;32m~\\PycharmProjects\\activeIdentificationNstu\\src\\identification_criteria_r.py:119\u001b[0m, in \u001b[0;36mIdentificationCriteria.get_grad_identification_criteria\u001b[1;34m(self, theta, observation)\u001b[0m\n\u001b[0;32m    117\u001b[0m \u001b[38;5;28;01melse\u001b[39;00m:\n\u001b[0;32m    118\u001b[0m     x_tk \u001b[38;5;241m=\u001b[39m F \u001b[38;5;241m@\u001b[39m x_tk \u001b[38;5;241m+\u001b[39m Psi \u001b[38;5;241m*\u001b[39m u\n\u001b[1;32m--> 119\u001b[0m dx_tk: np\u001b[38;5;241m.\u001b[39mndarray \u001b[38;5;241m=\u001b[39m \u001b[43mdF\u001b[49m\u001b[43m \u001b[49m\u001b[38;5;241;43m@\u001b[39;49m\u001b[43m \u001b[49m\u001b[43mx_tk\u001b[49m \u001b[38;5;241m+\u001b[39m F \u001b[38;5;241m@\u001b[39m dx0 \u001b[38;5;241m+\u001b[39m dPsi \u001b[38;5;241m*\u001b[39m u\n\u001b[0;32m    120\u001b[0m depsilon_tk: np\u001b[38;5;241m.\u001b[39mndarray \u001b[38;5;241m=\u001b[39m \u001b[38;5;241m-\u001b[39mdH \u001b[38;5;241m@\u001b[39m x_tk \u001b[38;5;241m-\u001b[39m \u001b[38;5;28mself\u001b[39m\u001b[38;5;241m.\u001b[39mH \u001b[38;5;241m@\u001b[39m dx_tk\n\u001b[0;32m    121\u001b[0m epsilon_tk: np\u001b[38;5;241m.\u001b[39mndarray \u001b[38;5;241m=\u001b[39m observation[k] \u001b[38;5;241m-\u001b[39m \u001b[38;5;28mself\u001b[39m\u001b[38;5;241m.\u001b[39mH \u001b[38;5;241m@\u001b[39m x_tk\n",
      "\u001b[1;31mValueError\u001b[0m: matmul: Input operand 1 has a mismatch in its core dimension 0, with gufunc signature (n?,k),(k,m?)->(n?,m?) (size 2 is different from 1)"
     ]
    }
   ],
   "source": [
    "ic.get_grad_identification_criteria(theta_true, observation)"
   ]
  },
  {
   "cell_type": "code",
   "execution_count": null,
   "id": "70e37eab-2811-4f56-8539-9c7e7f08aaf1",
   "metadata": {},
   "outputs": [],
   "source": [
    "ic.get_grad_estimate(theta_true)"
   ]
  },
  {
   "cell_type": "markdown",
   "id": "474148c5-0340-4fa9-98a8-c0e5908b790d",
   "metadata": {},
   "source": [
    "# Графики"
   ]
  },
  {
   "cell_type": "code",
   "execution_count": null,
   "id": "c61f43bd-5207-42ca-a1fd-ee6292ac6b10",
   "metadata": {},
   "outputs": [],
   "source": [
    "y = ic.generate_output_y(theta_true)\n",
    "y.shape"
   ]
  },
  {
   "cell_type": "code",
   "execution_count": null,
   "id": "71f887ec-a93b-4e65-a9fa-004e96f4d108",
   "metadata": {},
   "outputs": [],
   "source": [
    "z = ic.get_identification_criteria(theta_true, observation)\n",
    "z"
   ]
  },
  {
   "cell_type": "code",
   "execution_count": null,
   "id": "cba25a7e-902e-4dcc-a46b-0bf99412bf6b",
   "metadata": {},
   "outputs": [],
   "source": [
    "plt.plot(y)"
   ]
  },
  {
   "cell_type": "code",
   "execution_count": null,
   "id": "38ace52d-45b7-4cef-b949-77d8011b298d",
   "metadata": {},
   "outputs": [],
   "source": [
    "ys = map(ic.y, range(30))\n",
    "plt.plot(list(ys))"
   ]
  },
  {
   "cell_type": "code",
   "execution_count": null,
   "id": "4e6a3296-060a-43d6-9e1f-73a206c8e4aa",
   "metadata": {},
   "outputs": [],
   "source": [
    "ic.identification_criteria(theta_true)"
   ]
  },
  {
   "cell_type": "code",
   "execution_count": null,
   "id": "776debdd-9f95-43c6-9df0-281eef6d36c0",
   "metadata": {
    "scrolled": true
   },
   "outputs": [],
   "source": [
    "ic.grad_identification_criteria(theta_true, 1)"
   ]
  },
  {
   "cell_type": "code",
   "execution_count": 12,
   "id": "d0d8ca7c-878b-4b77-aa17-e531d6ce02b6",
   "metadata": {},
   "outputs": [
    {
     "data": {
      "text/plain": [
       "(array([[-1., -1., -1., -1., -1.],\n",
       "        [ 1.,  1.,  1.,  1.,  1.]]),\n",
       " array([[-1.       , -1.       , -1.       , -1.       , -1.       ],\n",
       "        [ 0.9990332,  0.9990332,  0.9990332,  0.9990332,  0.9990332]]))"
      ]
     },
     "execution_count": 12,
     "metadata": {},
     "output_type": "execute_result"
    }
   ],
   "source": [
    "ic.estimates()"
   ]
  },
  {
   "cell_type": "code",
   "execution_count": null,
   "id": "94c25a50-804e-4153-94ac-d5a256fda816",
   "metadata": {},
   "outputs": [],
   "source": []
  }
 ],
 "metadata": {
  "kernelspec": {
   "display_name": "Python 3 (ipykernel)",
   "language": "python",
   "name": "python3"
  },
  "language_info": {
   "codemirror_mode": {
    "name": "ipython",
    "version": 3
   },
   "file_extension": ".py",
   "mimetype": "text/x-python",
   "name": "python",
   "nbconvert_exporter": "python",
   "pygments_lexer": "ipython3",
   "version": "3.12.0"
  }
 },
 "nbformat": 4,
 "nbformat_minor": 5
}

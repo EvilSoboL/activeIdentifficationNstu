{
 "cells": [
  {
   "cell_type": "code",
   "execution_count": 7,
   "id": "fc1c8342-dc11-40ef-9327-00acecde78d2",
   "metadata": {},
   "outputs": [],
   "source": [
    "import numpy as np\n",
    "import sys\n",
    "\n",
    "sys.path.append('C:\\\\Users\\\\Mark\\\\PycharmProjects\\\\activeIdentificationNstu')\n",
    "\n",
    "from src.identification_criteria import IdentificationCriteria"
   ]
  },
  {
   "cell_type": "code",
   "execution_count": 8,
   "id": "ce5caec0-472a-43a9-9f15-05aa4e068417",
   "metadata": {},
   "outputs": [],
   "source": [
    "theta_1: float = -2\n",
    "theta_2: float = 0.01\n",
    "\n",
    "F: np.ndarray = np.array(\n",
    "    [[-0.8, 1], [theta_1, 0]]\n",
    ")\n",
    "\n",
    "Psi: np.ndarray = np.array(\n",
    "    [[theta_2], [1]]\n",
    ")\n",
    "\n",
    "H: np.ndarray = np.array(\n",
    "    [[1, 0]]\n",
    ")\n",
    "\n",
    "R: float = 0.1"
   ]
  },
  {
   "cell_type": "code",
   "execution_count": 9,
   "id": "c3bd612d-5536-411c-9024-8ef5930c9316",
   "metadata": {},
   "outputs": [],
   "source": [
    "ic = IdentificationCriteria(F, Psi, R, H)"
   ]
  },
  {
   "cell_type": "code",
   "execution_count": 10,
   "id": "8edfa337-4b4d-45ca-92d7-c259a380c325",
   "metadata": {},
   "outputs": [
    {
     "data": {
      "text/plain": [
       "array([[ 0.21],\n",
       "       [-1.  ]])"
      ]
     },
     "execution_count": 10,
     "metadata": {},
     "output_type": "execute_result"
    }
   ],
   "source": [
    "ic.get_x_i_k_plus()"
   ]
  },
  {
   "cell_type": "code",
   "execution_count": 11,
   "id": "8a43ee2c-6cff-49f6-9432-e1c7d9351f96",
   "metadata": {},
   "outputs": [
    {
     "data": {
      "text/plain": [
       "array([[0.47092766]])"
      ]
     },
     "execution_count": 11,
     "metadata": {},
     "output_type": "execute_result"
    }
   ],
   "source": [
    "ic.get_epsilon_k_plus()"
   ]
  },
  {
   "cell_type": "code",
   "execution_count": 12,
   "id": "9baaefac-437f-431a-b9e0-316f2bcc7ff7",
   "metadata": {},
   "outputs": [
    {
     "data": {
      "text/plain": [
       "array([[2.45131938]])"
      ]
     },
     "execution_count": 12,
     "metadata": {},
     "output_type": "execute_result"
    }
   ],
   "source": [
    "ic.get_delta()"
   ]
  },
  {
   "cell_type": "code",
   "execution_count": 13,
   "id": "e2fb5883-d335-4e89-bf2d-b7ea60f95921",
   "metadata": {},
   "outputs": [],
   "source": [
    "N: int = 30\n",
    "m: int = 1\n",
    "n: int = 1\n",
    "v: int = 1"
   ]
  },
  {
   "cell_type": "code",
   "execution_count": 14,
   "id": "2a394ddd-e44e-4450-beb1-88a178d5aa60",
   "metadata": {},
   "outputs": [
    {
     "ename": "NameError",
     "evalue": "name 'self' is not defined",
     "output_type": "error",
     "traceback": [
      "\u001b[1;31m---------------------------------------------------------------------------\u001b[0m",
      "\u001b[1;31mNameError\u001b[0m                                 Traceback (most recent call last)",
      "Cell \u001b[1;32mIn[14], line 1\u001b[0m\n\u001b[1;32m----> 1\u001b[0m np\u001b[38;5;241m.\u001b[39mlinalg\u001b[38;5;241m.\u001b[39mdet(\u001b[38;5;28;43mself\u001b[39;49m\u001b[38;5;241m.\u001b[39mR)\n",
      "\u001b[1;31mNameError\u001b[0m: name 'self' is not defined"
     ]
    }
   ],
   "source": [
    "np.linalg.det(self.R)"
   ]
  },
  {
   "cell_type": "code",
   "execution_count": 15,
   "id": "539acace-b2e0-40c2-b138-9e2c4393523f",
   "metadata": {},
   "outputs": [
    {
     "ename": "LinAlgError",
     "evalue": "0-dimensional array given. Array must be at least two-dimensional",
     "output_type": "error",
     "traceback": [
      "\u001b[1;31m---------------------------------------------------------------------------\u001b[0m",
      "\u001b[1;31mLinAlgError\u001b[0m                               Traceback (most recent call last)",
      "Cell \u001b[1;32mIn[15], line 1\u001b[0m\n\u001b[1;32m----> 1\u001b[0m \u001b[43mic\u001b[49m\u001b[38;5;241;43m.\u001b[39;49m\u001b[43mget_identification_criteria\u001b[49m\u001b[43m(\u001b[49m\u001b[43mN\u001b[49m\u001b[43m,\u001b[49m\u001b[43m \u001b[49m\u001b[43mm\u001b[49m\u001b[43m,\u001b[49m\u001b[43m \u001b[49m\u001b[43mn\u001b[49m\u001b[43m)\u001b[49m\n",
      "File \u001b[1;32m~\\PycharmProjects\\activeIdentificationNstu\\src\\identification_criteria.py:17\u001b[0m, in \u001b[0;36mIdentificationCriteria.get_identification_criteria\u001b[1;34m(self, N, m, v)\u001b[0m\n\u001b[0;32m     12\u001b[0m \u001b[38;5;28;01mdef\u001b[39;00m \u001b[38;5;21mget_identification_criteria\u001b[39m(\u001b[38;5;28mself\u001b[39m, N: \u001b[38;5;28mint\u001b[39m, m: \u001b[38;5;28mint\u001b[39m, v: \u001b[38;5;28mint\u001b[39m) \u001b[38;5;241m-\u001b[39m\u001b[38;5;241m>\u001b[39m np\u001b[38;5;241m.\u001b[39mndarray:\n\u001b[0;32m     13\u001b[0m \u001b[38;5;250m    \u001b[39m\u001b[38;5;124;03m\"\"\"\u001b[39;00m\n\u001b[0;32m     14\u001b[0m \u001b[38;5;124;03m    Критерий идентификации.\u001b[39;00m\n\u001b[0;32m     15\u001b[0m \u001b[38;5;124;03m    \"\"\"\u001b[39;00m\n\u001b[1;32m---> 17\u001b[0m     \u001b[38;5;28;01mreturn\u001b[39;00m N \u001b[38;5;241m*\u001b[39m m \u001b[38;5;241m*\u001b[39m v \u001b[38;5;241m*\u001b[39m np\u001b[38;5;241m.\u001b[39mlog(\u001b[38;5;241m2\u001b[39m \u001b[38;5;241m*\u001b[39m np\u001b[38;5;241m.\u001b[39mpi) \u001b[38;5;241m+\u001b[39m N \u001b[38;5;241m*\u001b[39m v \u001b[38;5;241m*\u001b[39m np\u001b[38;5;241m.\u001b[39mlog(\u001b[43mnp\u001b[49m\u001b[38;5;241;43m.\u001b[39;49m\u001b[43mlinalg\u001b[49m\u001b[38;5;241;43m.\u001b[39;49m\u001b[43mdet\u001b[49m\u001b[43m(\u001b[49m\u001b[43mnp\u001b[49m\u001b[38;5;241;43m.\u001b[39;49m\u001b[43marray\u001b[49m\u001b[43m(\u001b[49m\u001b[38;5;28;43mself\u001b[39;49m\u001b[38;5;241;43m.\u001b[39;49m\u001b[43mR\u001b[49m\u001b[43m)\u001b[49m\u001b[43m)\u001b[49m)\n",
      "File \u001b[1;32m~\\AppData\\Local\\Programs\\Python\\Python312\\Lib\\site-packages\\numpy\\linalg\\linalg.py:2176\u001b[0m, in \u001b[0;36mdet\u001b[1;34m(a)\u001b[0m\n\u001b[0;32m   2128\u001b[0m \u001b[38;5;250m\u001b[39m\u001b[38;5;124;03m\"\"\"\u001b[39;00m\n\u001b[0;32m   2129\u001b[0m \u001b[38;5;124;03mCompute the determinant of an array.\u001b[39;00m\n\u001b[0;32m   2130\u001b[0m \n\u001b[1;32m   (...)\u001b[0m\n\u001b[0;32m   2173\u001b[0m \n\u001b[0;32m   2174\u001b[0m \u001b[38;5;124;03m\"\"\"\u001b[39;00m\n\u001b[0;32m   2175\u001b[0m a \u001b[38;5;241m=\u001b[39m asarray(a)\n\u001b[1;32m-> 2176\u001b[0m \u001b[43m_assert_stacked_2d\u001b[49m\u001b[43m(\u001b[49m\u001b[43ma\u001b[49m\u001b[43m)\u001b[49m\n\u001b[0;32m   2177\u001b[0m _assert_stacked_square(a)\n\u001b[0;32m   2178\u001b[0m t, result_t \u001b[38;5;241m=\u001b[39m _commonType(a)\n",
      "File \u001b[1;32m~\\AppData\\Local\\Programs\\Python\\Python312\\Lib\\site-packages\\numpy\\linalg\\linalg.py:206\u001b[0m, in \u001b[0;36m_assert_stacked_2d\u001b[1;34m(*arrays)\u001b[0m\n\u001b[0;32m    204\u001b[0m \u001b[38;5;28;01mfor\u001b[39;00m a \u001b[38;5;129;01min\u001b[39;00m arrays:\n\u001b[0;32m    205\u001b[0m     \u001b[38;5;28;01mif\u001b[39;00m a\u001b[38;5;241m.\u001b[39mndim \u001b[38;5;241m<\u001b[39m \u001b[38;5;241m2\u001b[39m:\n\u001b[1;32m--> 206\u001b[0m         \u001b[38;5;28;01mraise\u001b[39;00m LinAlgError(\u001b[38;5;124m'\u001b[39m\u001b[38;5;132;01m%d\u001b[39;00m\u001b[38;5;124m-dimensional array given. Array must be \u001b[39m\u001b[38;5;124m'\u001b[39m\n\u001b[0;32m    207\u001b[0m                 \u001b[38;5;124m'\u001b[39m\u001b[38;5;124mat least two-dimensional\u001b[39m\u001b[38;5;124m'\u001b[39m \u001b[38;5;241m%\u001b[39m a\u001b[38;5;241m.\u001b[39mndim)\n",
      "\u001b[1;31mLinAlgError\u001b[0m: 0-dimensional array given. Array must be at least two-dimensional"
     ]
    }
   ],
   "source": [
    "ic.get_identification_criteria(N, m, n)"
   ]
  },
  {
   "cell_type": "code",
   "execution_count": 16,
   "id": "12d23a1f-04b7-451c-8328-51b2666eb922",
   "metadata": {},
   "outputs": [
    {
     "ename": "LinAlgError",
     "evalue": "0-dimensional array given. Array must be at least two-dimensional",
     "output_type": "error",
     "traceback": [
      "\u001b[1;31m---------------------------------------------------------------------------\u001b[0m",
      "\u001b[1;31mLinAlgError\u001b[0m                               Traceback (most recent call last)",
      "Cell \u001b[1;32mIn[16], line 1\u001b[0m\n\u001b[1;32m----> 1\u001b[0m \u001b[43mic\u001b[49m\u001b[38;5;241;43m.\u001b[39;49m\u001b[43mget_identification_criteria_with_delta\u001b[49m\u001b[43m(\u001b[49m\u001b[43mN\u001b[49m\u001b[43m,\u001b[49m\u001b[43m \u001b[49m\u001b[43mm\u001b[49m\u001b[43m,\u001b[49m\u001b[43m \u001b[49m\u001b[43mn\u001b[49m\u001b[43m)\u001b[49m\n",
      "File \u001b[1;32m~\\PycharmProjects\\activeIdentificationNstu\\src\\identification_criteria.py:80\u001b[0m, in \u001b[0;36mIdentificationCriteria.get_identification_criteria_with_delta\u001b[1;34m(self, N, m, v)\u001b[0m\n\u001b[0;32m     79\u001b[0m \u001b[38;5;28;01mdef\u001b[39;00m \u001b[38;5;21mget_identification_criteria_with_delta\u001b[39m(\u001b[38;5;28mself\u001b[39m, N: \u001b[38;5;28mint\u001b[39m, m: \u001b[38;5;28mint\u001b[39m, v: \u001b[38;5;28mint\u001b[39m):  \u001b[38;5;66;03m# Шаг 12, 14\u001b[39;00m\n\u001b[1;32m---> 80\u001b[0m     identification_criteria: np\u001b[38;5;241m.\u001b[39mndarray \u001b[38;5;241m=\u001b[39m \u001b[38;5;28;43mself\u001b[39;49m\u001b[38;5;241;43m.\u001b[39;49m\u001b[43mget_identification_criteria\u001b[49m\u001b[43m(\u001b[49m\u001b[43mN\u001b[49m\u001b[43m,\u001b[49m\u001b[43m \u001b[49m\u001b[43mm\u001b[49m\u001b[43m,\u001b[49m\u001b[43m \u001b[49m\u001b[43mv\u001b[49m\u001b[43m)\u001b[49m\n\u001b[0;32m     81\u001b[0m     delta: np\u001b[38;5;241m.\u001b[39mndarray \u001b[38;5;241m=\u001b[39m \u001b[38;5;28mself\u001b[39m\u001b[38;5;241m.\u001b[39mget_delta()\n\u001b[0;32m     83\u001b[0m     \u001b[38;5;28;01mreturn\u001b[39;00m \u001b[38;5;241m0.5\u001b[39m \u001b[38;5;241m*\u001b[39m (identification_criteria \u001b[38;5;241m+\u001b[39m delta)\n",
      "File \u001b[1;32m~\\PycharmProjects\\activeIdentificationNstu\\src\\identification_criteria.py:17\u001b[0m, in \u001b[0;36mIdentificationCriteria.get_identification_criteria\u001b[1;34m(self, N, m, v)\u001b[0m\n\u001b[0;32m     12\u001b[0m \u001b[38;5;28;01mdef\u001b[39;00m \u001b[38;5;21mget_identification_criteria\u001b[39m(\u001b[38;5;28mself\u001b[39m, N: \u001b[38;5;28mint\u001b[39m, m: \u001b[38;5;28mint\u001b[39m, v: \u001b[38;5;28mint\u001b[39m) \u001b[38;5;241m-\u001b[39m\u001b[38;5;241m>\u001b[39m np\u001b[38;5;241m.\u001b[39mndarray:\n\u001b[0;32m     13\u001b[0m \u001b[38;5;250m    \u001b[39m\u001b[38;5;124;03m\"\"\"\u001b[39;00m\n\u001b[0;32m     14\u001b[0m \u001b[38;5;124;03m    Критерий идентификации.\u001b[39;00m\n\u001b[0;32m     15\u001b[0m \u001b[38;5;124;03m    \"\"\"\u001b[39;00m\n\u001b[1;32m---> 17\u001b[0m     \u001b[38;5;28;01mreturn\u001b[39;00m N \u001b[38;5;241m*\u001b[39m m \u001b[38;5;241m*\u001b[39m v \u001b[38;5;241m*\u001b[39m np\u001b[38;5;241m.\u001b[39mlog(\u001b[38;5;241m2\u001b[39m \u001b[38;5;241m*\u001b[39m np\u001b[38;5;241m.\u001b[39mpi) \u001b[38;5;241m+\u001b[39m N \u001b[38;5;241m*\u001b[39m v \u001b[38;5;241m*\u001b[39m np\u001b[38;5;241m.\u001b[39mlog(\u001b[43mnp\u001b[49m\u001b[38;5;241;43m.\u001b[39;49m\u001b[43mlinalg\u001b[49m\u001b[38;5;241;43m.\u001b[39;49m\u001b[43mdet\u001b[49m\u001b[43m(\u001b[49m\u001b[43mnp\u001b[49m\u001b[38;5;241;43m.\u001b[39;49m\u001b[43marray\u001b[49m\u001b[43m(\u001b[49m\u001b[38;5;28;43mself\u001b[39;49m\u001b[38;5;241;43m.\u001b[39;49m\u001b[43mR\u001b[49m\u001b[43m)\u001b[49m\u001b[43m)\u001b[49m)\n",
      "File \u001b[1;32m~\\AppData\\Local\\Programs\\Python\\Python312\\Lib\\site-packages\\numpy\\linalg\\linalg.py:2176\u001b[0m, in \u001b[0;36mdet\u001b[1;34m(a)\u001b[0m\n\u001b[0;32m   2128\u001b[0m \u001b[38;5;250m\u001b[39m\u001b[38;5;124;03m\"\"\"\u001b[39;00m\n\u001b[0;32m   2129\u001b[0m \u001b[38;5;124;03mCompute the determinant of an array.\u001b[39;00m\n\u001b[0;32m   2130\u001b[0m \n\u001b[1;32m   (...)\u001b[0m\n\u001b[0;32m   2173\u001b[0m \n\u001b[0;32m   2174\u001b[0m \u001b[38;5;124;03m\"\"\"\u001b[39;00m\n\u001b[0;32m   2175\u001b[0m a \u001b[38;5;241m=\u001b[39m asarray(a)\n\u001b[1;32m-> 2176\u001b[0m \u001b[43m_assert_stacked_2d\u001b[49m\u001b[43m(\u001b[49m\u001b[43ma\u001b[49m\u001b[43m)\u001b[49m\n\u001b[0;32m   2177\u001b[0m _assert_stacked_square(a)\n\u001b[0;32m   2178\u001b[0m t, result_t \u001b[38;5;241m=\u001b[39m _commonType(a)\n",
      "File \u001b[1;32m~\\AppData\\Local\\Programs\\Python\\Python312\\Lib\\site-packages\\numpy\\linalg\\linalg.py:206\u001b[0m, in \u001b[0;36m_assert_stacked_2d\u001b[1;34m(*arrays)\u001b[0m\n\u001b[0;32m    204\u001b[0m \u001b[38;5;28;01mfor\u001b[39;00m a \u001b[38;5;129;01min\u001b[39;00m arrays:\n\u001b[0;32m    205\u001b[0m     \u001b[38;5;28;01mif\u001b[39;00m a\u001b[38;5;241m.\u001b[39mndim \u001b[38;5;241m<\u001b[39m \u001b[38;5;241m2\u001b[39m:\n\u001b[1;32m--> 206\u001b[0m         \u001b[38;5;28;01mraise\u001b[39;00m LinAlgError(\u001b[38;5;124m'\u001b[39m\u001b[38;5;132;01m%d\u001b[39;00m\u001b[38;5;124m-dimensional array given. Array must be \u001b[39m\u001b[38;5;124m'\u001b[39m\n\u001b[0;32m    207\u001b[0m                 \u001b[38;5;124m'\u001b[39m\u001b[38;5;124mat least two-dimensional\u001b[39m\u001b[38;5;124m'\u001b[39m \u001b[38;5;241m%\u001b[39m a\u001b[38;5;241m.\u001b[39mndim)\n",
      "\u001b[1;31mLinAlgError\u001b[0m: 0-dimensional array given. Array must be at least two-dimensional"
     ]
    }
   ],
   "source": [
    "ic.get_identification_criteria_with_delta(N, m, n)"
   ]
  },
  {
   "cell_type": "code",
   "execution_count": null,
   "id": "e03c5a76-2016-401d-887e-c2c6804349e3",
   "metadata": {},
   "outputs": [],
   "source": []
  }
 ],
 "metadata": {
  "kernelspec": {
   "display_name": "Python 3 (ipykernel)",
   "language": "python",
   "name": "python3"
  },
  "language_info": {
   "codemirror_mode": {
    "name": "ipython",
    "version": 3
   },
   "file_extension": ".py",
   "mimetype": "text/x-python",
   "name": "python",
   "nbconvert_exporter": "python",
   "pygments_lexer": "ipython3",
   "version": "3.12.0"
  }
 },
 "nbformat": 4,
 "nbformat_minor": 5
}

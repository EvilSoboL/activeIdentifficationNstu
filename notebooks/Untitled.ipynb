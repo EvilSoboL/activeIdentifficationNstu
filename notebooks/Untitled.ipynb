{
 "cells": [
  {
   "cell_type": "code",
   "execution_count": 1,
   "id": "f41e296e-a4af-4777-99ca-aa02f5467bb3",
   "metadata": {},
   "outputs": [],
   "source": [
    "# %%\n",
    "import numpy as np\n",
    "from numpy.linalg import det, inv, norm\n",
    "from numpy.random import normal\n",
    "from scipy.optimize import minimize, Bounds, least_squares\n",
    "import matplotlib.pyplot as plt\n",
    "from matplotlib import cm\n",
    "import math\n",
    "import random\n",
    "from functools import cache\n",
    "# %%\n",
    "np.random.seed(23)\n",
    "np.random.RandomState = 22\n",
    "random.seed(22)\n",
    "np.set_printoptions(precision=5)\n",
    "plt.rcParams['figure.figsize'] = [10, 4]\n",
    "# # 1. Исходные данные"
   ]
  },
  {
   "cell_type": "code",
   "execution_count": 2,
   "id": "634ca8ce-ec3e-4517-b29a-bd0564f80826",
   "metadata": {},
   "outputs": [],
   "source": [
    "def F_(th_1):\n",
    "    return np.matrix([[th_1, 0.55], [-0.1, 0.5]])\n",
    "\n",
    "def PSI_(th_2):\n",
    "    return np.matrix([1, th_2]).T\n",
    "\n",
    "G = np.matrix([1, 1]).T\n",
    "H = np.matrix([1, 0])\n",
    "Q = np.matrix(0.1)\n",
    "R = np.matrix(0.05)\n",
    "x0 = np.matrix([0, 0]).T\n",
    "P0 = np.matrix([[0.1, 0], [0, 0.1]])\n",
    "I = np.eye(2)\n",
    "N = 30 # Размерность сигнала U\n",
    "s = 2 # Размерность th\n",
    "th_true = np.array([-0.8, 1])\n",
    "th_1_range = [-2, -0.05]\n",
    "th_2_range = [0.01, 1.5]\n",
    "U = np.matrix(np.ones(N+1)*5).T"
   ]
  },
  {
   "cell_type": "code",
   "execution_count": 3,
   "id": "c5b28694-ab93-4135-8c09-31a2689fbada",
   "metadata": {},
   "outputs": [],
   "source": [
    "# # 2. Отклик\n",
    "# %%\n",
    "def make_Y(th, err=1, err2=1):\n",
    "    X = np.matrix(np.zeros((2, N+1)))\n",
    "    Y = np.matrix(np.zeros((N+1, 1)))\n",
    "    F = F_(th[0])\n",
    "    PSI = PSI_(th[1])\n",
    "    X[:, 0] = x0\n",
    "    Y[0] = H@X[:, 0] + normal(-np.sqrt(R)/2, np.sqrt(R))*err\n",
    "    for k in range(1, N+1):\n",
    "        wi = normal(-np.sqrt(R)/2, np.sqrt(Q), (1,2))*err\n",
    "        vi = normal(-np.sqrt(Q)/2, np.sqrt(R))*err*err2\n",
    "        X[:, k] = F@X[:, k-1] + PSI@U[k] + (G@wi)[0].T\n",
    "        Y[k] = H@X[:, k] + vi\n",
    "    return Y, X"
   ]
  },
  {
   "cell_type": "code",
   "execution_count": 4,
   "id": "68febe6d-efe9-4915-b594-4056298e187b",
   "metadata": {},
   "outputs": [
    {
     "name": "stdout",
     "output_type": "stream",
     "text": [
      "5.6450990306036344e+16\n",
      "0.05376917009959059\n"
     ]
    },
    {
     "name": "stderr",
     "output_type": "stream",
     "text": [
      "C:\\Users\\Mark\\AppData\\Local\\Temp\\ipykernel_22128\\2425434409.py:18: DeprecationWarning: Conversion of an array with ndim > 0 to a scalar is deprecated, and will error in future. Ensure you extract a single element from your array before performing this operation. (Deprecated NumPy 1.25.)\n",
      "  return np.float64(hi/2)\n"
     ]
    }
   ],
   "source": [
    "def HI(th, Y):\n",
    "    hi = N*np.log(2*np.pi)\n",
    "    P_k_k = P0\n",
    "    x_k_k = x0\n",
    "    F = F_(th[0])\n",
    "    PSI = PSI_(th[1])\n",
    "    for k in range(N):\n",
    "        P_k1_k = F@P_k_k@F.T + G@Q@G.T\n",
    "        B_k1 = H@P_k1_k@H.T + R\n",
    "        K_k1 = P_k1_k@H.T@inv(B_k1)\n",
    "        P_k1_k1 = (I - K_k1@H)@P_k1_k\n",
    "        x_k1_k = F@x_k_k + PSI@U[k]\n",
    "        e_k1 = Y[k+1] - H@x_k1_k\n",
    "        x_k_k = x_k1_k + K_k1@e_k1\n",
    "        delta = e_k1.T@inv(B_k1)@e_k1\n",
    "        hi += math.log(det(B_k1)) + delta\n",
    "        P_k_k = P_k1_k1\n",
    "    return np.float64(hi/2)\n",
    "\n",
    "print(HI(np.array([-1.2, 1.81]), make_Y(np.array([-1.9, 0.81]), 0)[0]))\n",
    "print(HI(th_true, make_Y(th_true, 0)[0]))"
   ]
  },
  {
   "cell_type": "code",
   "execution_count": 5,
   "id": "ccf8ddde-c493-487e-951d-d91563541f46",
   "metadata": {},
   "outputs": [
    {
     "name": "stderr",
     "output_type": "stream",
     "text": [
      "C:\\Users\\Mark\\AppData\\Local\\Temp\\ipykernel_22128\\3686827930.py:44: DeprecationWarning: Conversion of an array with ndim > 0 to a scalar is deprecated, and will error in future. Ensure you extract a single element from your array before performing this operation. (Deprecated NumPy 1.25.)\n",
      "  delta[i] += float(\n",
      "C:\\Users\\Mark\\AppData\\Local\\Temp\\ipykernel_22128\\3686827930.py:48: DeprecationWarning: Conversion of an array with ndim > 0 to a scalar is deprecated, and will error in future. Ensure you extract a single element from your array before performing this operation. (Deprecated NumPy 1.25.)\n",
      "  dHi[i] += 1/2 * np.trace(inv(B_k1)@dB_k1[i]) + delta[i]\n"
     ]
    },
    {
     "ename": "ValueError",
     "evalue": "matmul: Input operand 0 does not have enough dimensions (has 0, gufunc core with signature (n?,k),(k,m?)->(n?,m?) requires 1)",
     "output_type": "error",
     "traceback": [
      "\u001b[1;31m---------------------------------------------------------------------------\u001b[0m",
      "\u001b[1;31mValueError\u001b[0m                                Traceback (most recent call last)",
      "Cell \u001b[1;32mIn[5], line 56\u001b[0m\n\u001b[0;32m     52\u001b[0m             dx_k_k \u001b[38;5;241m=\u001b[39m dx_k1_k1\n\u001b[0;32m     54\u001b[0m         \u001b[38;5;28;01mreturn\u001b[39;00m dHi\n\u001b[1;32m---> 56\u001b[0m a \u001b[38;5;241m=\u001b[39m \u001b[43mgradHI\u001b[49m\u001b[43m(\u001b[49m\u001b[43mnp\u001b[49m\u001b[38;5;241;43m.\u001b[39;49m\u001b[43marray\u001b[49m\u001b[43m(\u001b[49m\u001b[43m[\u001b[49m\u001b[38;5;241;43m-\u001b[39;49m\u001b[38;5;241;43m1.9\u001b[39;49m\u001b[43m,\u001b[49m\u001b[43m \u001b[49m\u001b[38;5;241;43m1.81\u001b[39;49m\u001b[43m]\u001b[49m\u001b[43m)\u001b[49m\u001b[43m,\u001b[49m\u001b[43m \u001b[49m\u001b[43mmake_Y\u001b[49m\u001b[43m(\u001b[49m\u001b[43mnp\u001b[49m\u001b[38;5;241;43m.\u001b[39;49m\u001b[43marray\u001b[49m\u001b[43m(\u001b[49m\u001b[43m[\u001b[49m\u001b[38;5;241;43m-\u001b[39;49m\u001b[38;5;241;43m1.9\u001b[39;49m\u001b[43m,\u001b[49m\u001b[43m \u001b[49m\u001b[38;5;241;43m0.81\u001b[39;49m\u001b[43m]\u001b[49m\u001b[43m)\u001b[49m\u001b[43m,\u001b[49m\u001b[43m \u001b[49m\u001b[38;5;241;43m0\u001b[39;49m\u001b[43m)\u001b[49m\u001b[43m[\u001b[49m\u001b[38;5;241;43m0\u001b[39;49m\u001b[43m]\u001b[49m\u001b[43m)\u001b[49m \n\u001b[0;32m     57\u001b[0m \u001b[38;5;28mprint\u001b[39m(\u001b[38;5;28mtype\u001b[39m(a), a)\n",
      "Cell \u001b[1;32mIn[5], line 43\u001b[0m, in \u001b[0;36mgradHI\u001b[1;34m(th, Y)\u001b[0m\n\u001b[0;32m     41\u001b[0m dx_k1_k \u001b[38;5;241m=\u001b[39m dF[i]\u001b[38;5;129m@x_k_k\u001b[39m \u001b[38;5;241m+\u001b[39m F\u001b[38;5;129m@dx_k_k\u001b[39m[i] \u001b[38;5;241m+\u001b[39m dPSI[i]\u001b[38;5;129m@U\u001b[39m[k] \n\u001b[0;32m     42\u001b[0m de_k1 \u001b[38;5;241m=\u001b[39m \u001b[38;5;241m-\u001b[39mH\u001b[38;5;129m@dx_k1_k\u001b[39m \n\u001b[1;32m---> 43\u001b[0m dx_k1_k1[i] \u001b[38;5;241m=\u001b[39m dx_k1_k \u001b[38;5;241m+\u001b[39m \u001b[43mdK_k1\u001b[49m\u001b[43m[\u001b[49m\u001b[43mi\u001b[49m\u001b[43m]\u001b[49m\u001b[38;5;129;43m@e_k1\u001b[39;49m \u001b[38;5;241m+\u001b[39m K_k1\u001b[38;5;129m@de_k1\u001b[39m\n\u001b[0;32m     44\u001b[0m delta[i] \u001b[38;5;241m+\u001b[39m\u001b[38;5;241m=\u001b[39m \u001b[38;5;28mfloat\u001b[39m( \n\u001b[0;32m     45\u001b[0m     de_k1\u001b[38;5;241m.\u001b[39mT\u001b[38;5;129m@inv\u001b[39m(B_k1)\u001b[38;5;129m@e_k1\u001b[39m \u001b[38;5;241m-\u001b[39m\\\n\u001b[0;32m     46\u001b[0m     \u001b[38;5;241m1\u001b[39m\u001b[38;5;241m/\u001b[39m\u001b[38;5;241m2\u001b[39m \u001b[38;5;241m*\u001b[39m e_k1\u001b[38;5;241m.\u001b[39mT\u001b[38;5;129m@inv\u001b[39m(B_k1)\u001b[38;5;129m@dB_k1\u001b[39m[i]\u001b[38;5;129m@inv\u001b[39m(B_k1)\u001b[38;5;129m@e_k1\u001b[39m\n\u001b[0;32m     47\u001b[0m )\n\u001b[0;32m     48\u001b[0m dHi[i] \u001b[38;5;241m+\u001b[39m\u001b[38;5;241m=\u001b[39m \u001b[38;5;241m1\u001b[39m\u001b[38;5;241m/\u001b[39m\u001b[38;5;241m2\u001b[39m \u001b[38;5;241m*\u001b[39m np\u001b[38;5;241m.\u001b[39mtrace(inv(B_k1)\u001b[38;5;129m@dB_k1\u001b[39m[i]) \u001b[38;5;241m+\u001b[39m delta[i]\n",
      "\u001b[1;31mValueError\u001b[0m: matmul: Input operand 0 does not have enough dimensions (has 0, gufunc core with signature (n?,k),(k,m?)->(n?,m?) requires 1)"
     ]
    }
   ],
   "source": [
    "def gradHI(th, Y):\n",
    "    dF = [np.matrix([[1,0],[0,0]]), np.matrix(np.zeros((2,2)))] \n",
    "    dPSI = [np.matrix(np.zeros((2,1))), np.matrix([0,1]).T] \n",
    "    dx0 = np.array([[[0],[0]],[[0],[0]]]) # dG, dH, dQ, dR, dx0, dP0 - нулевые матрицы \n",
    "    \n",
    "    dHi = np.zeros(len(th)) \n",
    "    \n",
    "    F = F_(th[0]) \n",
    "    PSI = PSI_(th[1]) \n",
    "    \n",
    "    P_k_k = P0 \n",
    "    dP_k_k = [np.matrix(np.zeros((2,2))), np.matrix(np.zeros((2,2)))] \n",
    "    \n",
    "    x_k_k = x0 \n",
    "    dx_k_k = dx0 \n",
    "    \n",
    "    for k in range(N): \n",
    "        P_k1_k = F@P_k_k@F.T + G@Q@G.T \n",
    "        B_k1 = H@P_k1_k@H.T + R \n",
    "        K_k1 = P_k1_k@H.T@inv(B_k1) \n",
    "        P_k1_k1 = (I - K_k1@H)@P_k1_k \n",
    "        \n",
    "        dP_k1_k = [None, None] \n",
    "        dB_k1 = [None, None] \n",
    "        dK_k1 = [None, None] \n",
    "        dx_k1_k1 = [None, None] \n",
    "        \n",
    "        for i in range(s): \n",
    "            dP_k1_k[i] = dF[i]@P_k_k@F.T + F@dP_k_k[i]@F.T + F@P_k_k@dF[i].T \n",
    "            dB_k1[i] = H@dP_k1_k[i]@H.T\n",
    "            dK_k1[i] = (dP_k1_k[i]@H.T - P_k1_k@H.T@inv(B_k1)@dB_k1[i])@inv(B_k1) \n",
    "            dP_k_k[i] = (I - K_k1@H)@dP_k1_k[i] - dK_k1[i]@H@P_k1_k \n",
    "            \n",
    "            delta = np.zeros((s, 1)) \n",
    "            \n",
    "            x_k1_k = F@x_k_k + PSI@U[k] \n",
    "            e_k1 = Y[k+1] - H@x_k1_k \n",
    "            x_k1_k1 = x_k1_k + K_k1@e_k1 \n",
    "            \n",
    "            for i in range(s): \n",
    "                dx_k1_k = dF[i]@x_k_k + F@dx_k_k[i] + dPSI[i]@U[k] \n",
    "                de_k1 = -H@dx_k1_k \n",
    "                dx_k1_k1[i] = dx_k1_k + dK_k1[i]@e_k1 + K_k1@de_k1\n",
    "                delta[i] += float( \n",
    "                    de_k1.T@inv(B_k1)@e_k1 -\\\n",
    "                    1/2 * e_k1.T@inv(B_k1)@dB_k1[i]@inv(B_k1)@e_k1\n",
    "                )\n",
    "                dHi[i] += 1/2 * np.trace(inv(B_k1)@dB_k1[i]) + delta[i]\n",
    "                \n",
    "            P_k_k = P_k1_k1 \n",
    "            x_k_k = x_k1_k1 \n",
    "            dx_k_k = dx_k1_k1\n",
    "            \n",
    "        return dHi\n",
    "\n",
    "a = gradHI(np.array([-1.9, 1.81]), make_Y(np.array([-1.9, 0.81]), 0)[0]) \n",
    "print(type(a), a)"
   ]
  },
  {
   "cell_type": "code",
   "execution_count": null,
   "id": "41775a04-c314-4e1f-8f95-e47946244ec3",
   "metadata": {},
   "outputs": [],
   "source": []
  }
 ],
 "metadata": {
  "kernelspec": {
   "display_name": "Python 3 (ipykernel)",
   "language": "python",
   "name": "python3"
  },
  "language_info": {
   "codemirror_mode": {
    "name": "ipython",
    "version": 3
   },
   "file_extension": ".py",
   "mimetype": "text/x-python",
   "name": "python",
   "nbconvert_exporter": "python",
   "pygments_lexer": "ipython3",
   "version": "3.12.0"
  }
 },
 "nbformat": 4,
 "nbformat_minor": 5
}
